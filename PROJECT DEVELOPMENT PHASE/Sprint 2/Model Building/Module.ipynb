{
 "cells": [
  {
   "cell_type": "code",
   "execution_count": 1,
   "id": "5f868ec8",
   "metadata": {},
   "outputs": [
    {
     "name": "stdout",
     "output_type": "stream",
     "text": [
      "Defaulting to user installation because normal site-packages is not writeable\n",
      "Requirement already satisfied: keras==2.2.4 in c:\\users\\malan\\appdata\\roaming\\python\\python39\\site-packages (2.2.4)\n",
      "Requirement already satisfied: six>=1.9.0 in c:\\users\\malan\\appdata\\roaming\\python\\python39\\site-packages (from keras==2.2.4) (1.15.0)\n",
      "Requirement already satisfied: h5py in c:\\users\\malan\\appdata\\roaming\\python\\python39\\site-packages (from keras==2.2.4) (3.1.0)\n",
      "Requirement already satisfied: keras-preprocessing>=1.0.5 in c:\\users\\malan\\appdata\\roaming\\python\\python39\\site-packages (from keras==2.2.4) (1.1.2)\n",
      "Requirement already satisfied: numpy>=1.9.1 in c:\\users\\malan\\appdata\\roaming\\python\\python39\\site-packages (from keras==2.2.4) (1.19.5)\n",
      "Requirement already satisfied: pyyaml in c:\\programdata\\anaconda3\\lib\\site-packages (from keras==2.2.4) (6.0)\n",
      "Requirement already satisfied: scipy>=0.14 in c:\\programdata\\anaconda3\\lib\\site-packages (from keras==2.2.4) (1.7.3)\n",
      "Requirement already satisfied: keras-applications>=1.0.6 in c:\\users\\malan\\appdata\\roaming\\python\\python39\\site-packages (from keras==2.2.4) (1.0.8)\n"
     ]
    }
   ],
   "source": [
    "!pip install keras==2.2.4"
   ]
  },
  {
   "cell_type": "code",
   "execution_count": 2,
   "id": "c94e16f1",
   "metadata": {},
   "outputs": [
    {
     "name": "stdout",
     "output_type": "stream",
     "text": [
      "Defaulting to user installation because normal site-packages is not writeable\n",
      "Requirement already satisfied: tensorflow==2.5.0 in c:\\users\\malan\\appdata\\roaming\\python\\python39\\site-packages (2.5.0)\n",
      "Requirement already satisfied: flatbuffers~=1.12.0 in c:\\users\\malan\\appdata\\roaming\\python\\python39\\site-packages (from tensorflow==2.5.0) (1.12)\n",
      "Requirement already satisfied: grpcio~=1.34.0 in c:\\users\\malan\\appdata\\roaming\\python\\python39\\site-packages (from tensorflow==2.5.0) (1.34.1)\n",
      "Requirement already satisfied: gast==0.4.0 in c:\\users\\malan\\appdata\\roaming\\python\\python39\\site-packages (from tensorflow==2.5.0) (0.4.0)\n",
      "Requirement already satisfied: keras-nightly~=2.5.0.dev in c:\\users\\malan\\appdata\\roaming\\python\\python39\\site-packages (from tensorflow==2.5.0) (2.5.0.dev2021032900)\n",
      "Requirement already satisfied: tensorboard~=2.5 in c:\\users\\malan\\appdata\\roaming\\python\\python39\\site-packages (from tensorflow==2.5.0) (2.10.0)\n",
      "Requirement already satisfied: numpy~=1.19.2 in c:\\users\\malan\\appdata\\roaming\\python\\python39\\site-packages (from tensorflow==2.5.0) (1.19.5)\n",
      "Requirement already satisfied: keras-preprocessing~=1.1.2 in c:\\users\\malan\\appdata\\roaming\\python\\python39\\site-packages (from tensorflow==2.5.0) (1.1.2)\n",
      "Requirement already satisfied: astunparse~=1.6.3 in c:\\users\\malan\\appdata\\roaming\\python\\python39\\site-packages (from tensorflow==2.5.0) (1.6.3)\n",
      "Requirement already satisfied: absl-py~=0.10 in c:\\users\\malan\\appdata\\roaming\\python\\python39\\site-packages (from tensorflow==2.5.0) (0.15.0)\n",
      "Requirement already satisfied: six~=1.15.0 in c:\\users\\malan\\appdata\\roaming\\python\\python39\\site-packages (from tensorflow==2.5.0) (1.15.0)\n",
      "Requirement already satisfied: wheel~=0.35 in c:\\programdata\\anaconda3\\lib\\site-packages (from tensorflow==2.5.0) (0.37.1)\n",
      "Requirement already satisfied: wrapt~=1.12.1 in c:\\programdata\\anaconda3\\lib\\site-packages (from tensorflow==2.5.0) (1.12.1)\n",
      "Requirement already satisfied: tensorflow-estimator<2.6.0,>=2.5.0rc0 in c:\\users\\malan\\appdata\\roaming\\python\\python39\\site-packages (from tensorflow==2.5.0) (2.5.0)\n",
      "Requirement already satisfied: h5py~=3.1.0 in c:\\users\\malan\\appdata\\roaming\\python\\python39\\site-packages (from tensorflow==2.5.0) (3.1.0)\n",
      "Requirement already satisfied: google-pasta~=0.2 in c:\\users\\malan\\appdata\\roaming\\python\\python39\\site-packages (from tensorflow==2.5.0) (0.2.0)\n",
      "Requirement already satisfied: protobuf>=3.9.2 in c:\\programdata\\anaconda3\\lib\\site-packages (from tensorflow==2.5.0) (3.19.1)\n",
      "Requirement already satisfied: termcolor~=1.1.0 in c:\\users\\malan\\appdata\\roaming\\python\\python39\\site-packages (from tensorflow==2.5.0) (1.1.0)\n",
      "Requirement already satisfied: typing-extensions~=3.7.4 in c:\\users\\malan\\appdata\\roaming\\python\\python39\\site-packages (from tensorflow==2.5.0) (3.7.4.3)\n",
      "Requirement already satisfied: opt-einsum~=3.3.0 in c:\\users\\malan\\appdata\\roaming\\python\\python39\\site-packages (from tensorflow==2.5.0) (3.3.0)\n",
      "Requirement already satisfied: google-auth-oauthlib<0.5,>=0.4.1 in c:\\users\\malan\\appdata\\roaming\\python\\python39\\site-packages (from tensorboard~=2.5->tensorflow==2.5.0) (0.4.6)\n",
      "Requirement already satisfied: requests<3,>=2.21.0 in c:\\programdata\\anaconda3\\lib\\site-packages (from tensorboard~=2.5->tensorflow==2.5.0) (2.27.1)\n",
      "Requirement already satisfied: tensorboard-plugin-wit>=1.6.0 in c:\\users\\malan\\appdata\\roaming\\python\\python39\\site-packages (from tensorboard~=2.5->tensorflow==2.5.0) (1.8.1)\n",
      "Requirement already satisfied: setuptools>=41.0.0 in c:\\programdata\\anaconda3\\lib\\site-packages (from tensorboard~=2.5->tensorflow==2.5.0) (61.2.0)\n",
      "Requirement already satisfied: markdown>=2.6.8 in c:\\programdata\\anaconda3\\lib\\site-packages (from tensorboard~=2.5->tensorflow==2.5.0) (3.3.4)\n",
      "Requirement already satisfied: google-auth<3,>=1.6.3 in c:\\programdata\\anaconda3\\lib\\site-packages (from tensorboard~=2.5->tensorflow==2.5.0) (1.33.0)\n",
      "Requirement already satisfied: werkzeug>=1.0.1 in c:\\programdata\\anaconda3\\lib\\site-packages (from tensorboard~=2.5->tensorflow==2.5.0) (2.0.3)\n",
      "Requirement already satisfied: tensorboard-data-server<0.7.0,>=0.6.0 in c:\\users\\malan\\appdata\\roaming\\python\\python39\\site-packages (from tensorboard~=2.5->tensorflow==2.5.0) (0.6.1)\n",
      "Requirement already satisfied: pyasn1-modules>=0.2.1 in c:\\programdata\\anaconda3\\lib\\site-packages (from google-auth<3,>=1.6.3->tensorboard~=2.5->tensorflow==2.5.0) (0.2.8)\n",
      "Requirement already satisfied: rsa<5,>=3.1.4 in c:\\programdata\\anaconda3\\lib\\site-packages (from google-auth<3,>=1.6.3->tensorboard~=2.5->tensorflow==2.5.0) (4.7.2)\n",
      "Requirement already satisfied: cachetools<5.0,>=2.0.0 in c:\\programdata\\anaconda3\\lib\\site-packages (from google-auth<3,>=1.6.3->tensorboard~=2.5->tensorflow==2.5.0) (4.2.2)\n",
      "Requirement already satisfied: requests-oauthlib>=0.7.0 in c:\\users\\malan\\appdata\\roaming\\python\\python39\\site-packages (from google-auth-oauthlib<0.5,>=0.4.1->tensorboard~=2.5->tensorflow==2.5.0) (1.3.1)\n",
      "Requirement already satisfied: pyasn1<0.5.0,>=0.4.6 in c:\\programdata\\anaconda3\\lib\\site-packages (from pyasn1-modules>=0.2.1->google-auth<3,>=1.6.3->tensorboard~=2.5->tensorflow==2.5.0) (0.4.8)\n",
      "Requirement already satisfied: certifi>=2017.4.17 in c:\\programdata\\anaconda3\\lib\\site-packages (from requests<3,>=2.21.0->tensorboard~=2.5->tensorflow==2.5.0) (2021.10.8)\n",
      "Requirement already satisfied: charset-normalizer~=2.0.0 in c:\\programdata\\anaconda3\\lib\\site-packages (from requests<3,>=2.21.0->tensorboard~=2.5->tensorflow==2.5.0) (2.0.4)\n",
      "Requirement already satisfied: idna<4,>=2.5 in c:\\programdata\\anaconda3\\lib\\site-packages (from requests<3,>=2.21.0->tensorboard~=2.5->tensorflow==2.5.0) (3.3)\n",
      "Requirement already satisfied: urllib3<1.27,>=1.21.1 in c:\\programdata\\anaconda3\\lib\\site-packages (from requests<3,>=2.21.0->tensorboard~=2.5->tensorflow==2.5.0) (1.26.9)\n",
      "Requirement already satisfied: oauthlib>=3.0.0 in c:\\users\\malan\\appdata\\roaming\\python\\python39\\site-packages (from requests-oauthlib>=0.7.0->google-auth-oauthlib<0.5,>=0.4.1->tensorboard~=2.5->tensorflow==2.5.0) (3.2.1)\n"
     ]
    }
   ],
   "source": [
    "!pip install tensorflow==2.5.0"
   ]
  },
  {
   "cell_type": "code",
   "execution_count": 3,
   "id": "88e82f41",
   "metadata": {},
   "outputs": [],
   "source": [
    "from tensorflow.keras.preprocessing.image import ImageDataGenerator"
   ]
  },
  {
   "cell_type": "code",
   "execution_count": 4,
   "id": "b76348f0",
   "metadata": {},
   "outputs": [],
   "source": [
    "train_datagen=ImageDataGenerator(rescale=1./255,shear_range=0.2,zoom_range=0.2,horizontal_flip=True)"
   ]
  },
  {
   "cell_type": "code",
   "execution_count": 5,
   "id": "f785ea83",
   "metadata": {},
   "outputs": [],
   "source": [
    "test_datagen=ImageDataGenerator(rescale=1./255)"
   ]
  },
  {
   "cell_type": "code",
   "execution_count": 6,
   "id": "1bf13465",
   "metadata": {},
   "outputs": [
    {
     "name": "stdout",
     "output_type": "stream",
     "text": [
      "Found 4138 images belonging to 5 classes.\n"
     ]
    }
   ],
   "source": [
    "x_train=train_datagen.flow_from_directory(r'C:\\Malan\\IBM Stuff\\Dataset\\Dataset\\TRAIN_SET',target_size=(64, 64),batch_size=5,color_mode='rgb',class_mode='sparse')"
   ]
  },
  {
   "cell_type": "code",
   "execution_count": 7,
   "id": "16bc8b71",
   "metadata": {},
   "outputs": [
    {
     "name": "stdout",
     "output_type": "stream",
     "text": [
      "Found 1679 images belonging to 5 classes.\n"
     ]
    }
   ],
   "source": [
    "x_test=test_datagen.flow_from_directory(r'C:\\Malan\\IBM Stuff\\Dataset\\Dataset\\TEST_SET',target_size=(64, 64),batch_size=5,color_mode='rgb',class_mode='sparse')"
   ]
  },
  {
   "cell_type": "code",
   "execution_count": 8,
   "id": "27458a2a",
   "metadata": {},
   "outputs": [
    {
     "name": "stdout",
     "output_type": "stream",
     "text": [
      "{'APPLES': 0, 'BANANA': 1, 'ORANGE': 2, 'PINEAPPLE': 3, 'WATERMELON': 4}\n"
     ]
    }
   ],
   "source": [
    "print(x_train.class_indices)"
   ]
  },
  {
   "cell_type": "code",
   "execution_count": 9,
   "id": "9291bce1",
   "metadata": {},
   "outputs": [
    {
     "name": "stdout",
     "output_type": "stream",
     "text": [
      "{'APPLES': 0, 'BANANA': 1, 'ORANGE': 2, 'PINEAPPLE': 3, 'WATERMELON': 4}\n"
     ]
    }
   ],
   "source": [
    "print(x_test.class_indices)"
   ]
  },
  {
   "cell_type": "code",
   "execution_count": 10,
   "id": "5c5f3c8a",
   "metadata": {},
   "outputs": [
    {
     "data": {
      "text/plain": [
       "Counter({0: 995, 1: 1374, 2: 1019, 3: 275, 4: 475})"
      ]
     },
     "execution_count": 10,
     "metadata": {},
     "output_type": "execute_result"
    }
   ],
   "source": [
    "from collections import Counter as c\n",
    "c(x_train.labels)"
   ]
  },
  {
   "cell_type": "code",
   "execution_count": 11,
   "id": "845e053f",
   "metadata": {},
   "outputs": [],
   "source": [
    "import numpy as np\n",
    "import tensorflow\n",
    "from tensorflow.keras.models import Sequential\n",
    "from tensorflow.keras import layers\n",
    "from tensorflow.keras.layers import Dense,Flatten\n",
    "from tensorflow.keras.layers import Conv2D,MaxPooling2D,Dropout\n",
    "from tensorflow.keras.preprocessing.image import ImageDataGenerator"
   ]
  },
  {
   "cell_type": "code",
   "execution_count": 12,
   "id": "43b80d65",
   "metadata": {},
   "outputs": [],
   "source": [
    "model=Sequential()"
   ]
  },
  {
   "cell_type": "code",
   "execution_count": 13,
   "id": "f520c363",
   "metadata": {},
   "outputs": [],
   "source": [
    "model.add(Conv2D(32, (3, 3), input_shape=(64, 64 ,3), activation='relu'))\n"
   ]
  },
  {
   "cell_type": "code",
   "execution_count": 14,
   "id": "9cbd3d2e",
   "metadata": {},
   "outputs": [],
   "source": [
    "model.add(MaxPooling2D(pool_size=(2, 2)))\n"
   ]
  },
  {
   "cell_type": "code",
   "execution_count": 15,
   "id": "2e6041f6",
   "metadata": {},
   "outputs": [],
   "source": [
    "model.add(Conv2D(32, (3, 3), activation='relu'))"
   ]
  },
  {
   "cell_type": "code",
   "execution_count": 16,
   "id": "d48b1f09",
   "metadata": {},
   "outputs": [],
   "source": [
    "model.add(Flatten())\n"
   ]
  },
  {
   "cell_type": "code",
   "execution_count": 17,
   "id": "83b07bb1",
   "metadata": {},
   "outputs": [],
   "source": [
    "model.add(Dense(units=128, activation='relu'))\n"
   ]
  },
  {
   "cell_type": "code",
   "execution_count": 18,
   "id": "d597b8e1",
   "metadata": {},
   "outputs": [],
   "source": [
    "model.add(Dense(units=5, activation='softmax'))\n"
   ]
  },
  {
   "cell_type": "code",
   "execution_count": 19,
   "id": "7d34f551",
   "metadata": {},
   "outputs": [
    {
     "name": "stdout",
     "output_type": "stream",
     "text": [
      "Model: \"sequential\"\n",
      "_________________________________________________________________\n",
      "Layer (type)                 Output Shape              Param #   \n",
      "=================================================================\n",
      "conv2d (Conv2D)              (None, 62, 62, 32)        896       \n",
      "_________________________________________________________________\n",
      "max_pooling2d (MaxPooling2D) (None, 31, 31, 32)        0         \n",
      "_________________________________________________________________\n",
      "conv2d_1 (Conv2D)            (None, 29, 29, 32)        9248      \n",
      "_________________________________________________________________\n",
      "flatten (Flatten)            (None, 26912)             0         \n",
      "_________________________________________________________________\n",
      "dense (Dense)                (None, 128)               3444864   \n",
      "_________________________________________________________________\n",
      "dense_1 (Dense)              (None, 5)                 645       \n",
      "=================================================================\n",
      "Total params: 3,455,653\n",
      "Trainable params: 3,455,653\n",
      "Non-trainable params: 0\n",
      "_________________________________________________________________\n"
     ]
    }
   ],
   "source": [
    "model.summary()"
   ]
  },
  {
   "cell_type": "code",
   "execution_count": 20,
   "id": "6da7632a",
   "metadata": {},
   "outputs": [],
   "source": [
    "model.compile(optimizer='adam', loss='sparse_categorical_crossentropy',metrics=['accuracy'])"
   ]
  },
  {
   "cell_type": "code",
   "execution_count": 21,
   "id": "b4ff5b86",
   "metadata": {},
   "outputs": [
    {
     "name": "stderr",
     "output_type": "stream",
     "text": [
      "C:\\Users\\Malan\\AppData\\Roaming\\Python\\Python39\\site-packages\\tensorflow\\python\\keras\\engine\\training.py:1940: UserWarning: `Model.fit_generator` is deprecated and will be removed in a future version. Please use `Model.fit`, which supports generators.\n",
      "  warnings.warn('`Model.fit_generator` is deprecated and '\n"
     ]
    },
    {
     "name": "stdout",
     "output_type": "stream",
     "text": [
      "Epoch 1/30\n",
      "828/828 [==============================] - 71s 85ms/step - loss: 0.6713 - accuracy: 0.7371 - val_loss: 0.3151 - val_accuracy: 0.8731\n",
      "Epoch 2/30\n",
      "828/828 [==============================] - 35s 42ms/step - loss: 0.4511 - accuracy: 0.8316 - val_loss: 0.2669 - val_accuracy: 0.8910\n",
      "Epoch 3/30\n",
      "828/828 [==============================] - 34s 41ms/step - loss: 0.4034 - accuracy: 0.8478 - val_loss: 0.2805 - val_accuracy: 0.9065\n",
      "Epoch 4/30\n",
      "828/828 [==============================] - 34s 41ms/step - loss: 0.3735 - accuracy: 0.8603 - val_loss: 0.2393 - val_accuracy: 0.9130\n",
      "Epoch 5/30\n",
      "828/828 [==============================] - 33s 40ms/step - loss: 0.3492 - accuracy: 0.8700 - val_loss: 0.2522 - val_accuracy: 0.9089\n",
      "Epoch 6/30\n",
      "828/828 [==============================] - 34s 41ms/step - loss: 0.3351 - accuracy: 0.8782 - val_loss: 0.2879 - val_accuracy: 0.9041\n",
      "Epoch 7/30\n",
      "828/828 [==============================] - 34s 41ms/step - loss: 0.3208 - accuracy: 0.8784 - val_loss: 0.2152 - val_accuracy: 0.9273\n",
      "Epoch 8/30\n",
      "828/828 [==============================] - 34s 41ms/step - loss: 0.3117 - accuracy: 0.8838 - val_loss: 0.2332 - val_accuracy: 0.9196\n",
      "Epoch 9/30\n",
      "828/828 [==============================] - 34s 41ms/step - loss: 0.2997 - accuracy: 0.8905 - val_loss: 0.2626 - val_accuracy: 0.9059\n",
      "Epoch 10/30\n",
      "828/828 [==============================] - 38s 46ms/step - loss: 0.2735 - accuracy: 0.8963 - val_loss: 0.2332 - val_accuracy: 0.9172\n",
      "Epoch 11/30\n",
      "828/828 [==============================] - 34s 41ms/step - loss: 0.2539 - accuracy: 0.9019 - val_loss: 0.2167 - val_accuracy: 0.9184\n",
      "Epoch 12/30\n",
      "828/828 [==============================] - 36s 43ms/step - loss: 0.2546 - accuracy: 0.9050 - val_loss: 0.2073 - val_accuracy: 0.9256\n",
      "Epoch 13/30\n",
      "828/828 [==============================] - 34s 42ms/step - loss: 0.2457 - accuracy: 0.9094 - val_loss: 0.2102 - val_accuracy: 0.9309\n",
      "Epoch 14/30\n",
      "828/828 [==============================] - 35s 42ms/step - loss: 0.2225 - accuracy: 0.9200 - val_loss: 0.3179 - val_accuracy: 0.9124\n",
      "Epoch 15/30\n",
      "828/828 [==============================] - 34s 41ms/step - loss: 0.2189 - accuracy: 0.9212 - val_loss: 0.2267 - val_accuracy: 0.9285\n",
      "Epoch 16/30\n",
      "828/828 [==============================] - 33s 40ms/step - loss: 0.2126 - accuracy: 0.9222 - val_loss: 0.2537 - val_accuracy: 0.9154\n",
      "Epoch 17/30\n",
      "828/828 [==============================] - 34s 41ms/step - loss: 0.1991 - accuracy: 0.9270 - val_loss: 0.2529 - val_accuracy: 0.9119\n",
      "Epoch 18/30\n",
      "828/828 [==============================] - 34s 41ms/step - loss: 0.1913 - accuracy: 0.9309 - val_loss: 0.2756 - val_accuracy: 0.9101\n",
      "Epoch 19/30\n",
      "828/828 [==============================] - 35s 42ms/step - loss: 0.1781 - accuracy: 0.9357 - val_loss: 0.2389 - val_accuracy: 0.9297\n",
      "Epoch 20/30\n",
      "828/828 [==============================] - 34s 42ms/step - loss: 0.1608 - accuracy: 0.9379 - val_loss: 0.2916 - val_accuracy: 0.9095\n",
      "Epoch 21/30\n",
      "828/828 [==============================] - 34s 41ms/step - loss: 0.1660 - accuracy: 0.9410 - val_loss: 0.2365 - val_accuracy: 0.9369\n",
      "Epoch 22/30\n",
      "828/828 [==============================] - 35s 42ms/step - loss: 0.1543 - accuracy: 0.9437 - val_loss: 0.2751 - val_accuracy: 0.9279\n",
      "Epoch 23/30\n",
      "828/828 [==============================] - 34s 41ms/step - loss: 0.1582 - accuracy: 0.9425 - val_loss: 0.2696 - val_accuracy: 0.9333\n",
      "Epoch 24/30\n",
      "828/828 [==============================] - 35s 43ms/step - loss: 0.1466 - accuracy: 0.9442 - val_loss: 0.2463 - val_accuracy: 0.9303\n",
      "Epoch 25/30\n",
      "828/828 [==============================] - 35s 42ms/step - loss: 0.1402 - accuracy: 0.9493 - val_loss: 0.2187 - val_accuracy: 0.9470\n",
      "Epoch 26/30\n",
      "828/828 [==============================] - 36s 43ms/step - loss: 0.1324 - accuracy: 0.9553 - val_loss: 0.2535 - val_accuracy: 0.9279\n",
      "Epoch 27/30\n",
      "828/828 [==============================] - 35s 42ms/step - loss: 0.1185 - accuracy: 0.9577 - val_loss: 0.2519 - val_accuracy: 0.9345\n",
      "Epoch 28/30\n",
      "828/828 [==============================] - 35s 42ms/step - loss: 0.1176 - accuracy: 0.9584 - val_loss: 0.2534 - val_accuracy: 0.9398\n",
      "Epoch 29/30\n",
      "828/828 [==============================] - 34s 41ms/step - loss: 0.1231 - accuracy: 0.9531 - val_loss: 0.2481 - val_accuracy: 0.9422\n",
      "Epoch 30/30\n",
      "828/828 [==============================] - 33s 40ms/step - loss: 0.1226 - accuracy: 0.9596 - val_loss: 0.3141 - val_accuracy: 0.9208\n"
     ]
    },
    {
     "data": {
      "text/plain": [
       "<tensorflow.python.keras.callbacks.History at 0x2a96de3b1c0>"
      ]
     },
     "execution_count": 21,
     "metadata": {},
     "output_type": "execute_result"
    }
   ],
   "source": [
    "model.fit_generator(x_train,steps_per_epoch=len(x_train),validation_data=x_test,validation_steps=len(x_test),epochs=30)"
   ]
  },
  {
   "cell_type": "code",
   "execution_count": 22,
   "id": "50f6364a",
   "metadata": {},
   "outputs": [
    {
     "name": "stdout",
     "output_type": "stream",
     "text": [
      "C:\\Malan\\IBM Stuff\n"
     ]
    }
   ],
   "source": [
    "cd C:\\Malan\\IBM Stuff"
   ]
  },
  {
   "cell_type": "code",
   "execution_count": 23,
   "id": "1d47026c",
   "metadata": {},
   "outputs": [],
   "source": [
    "model.save('nutrition.h5')"
   ]
  },
  {
   "cell_type": "code",
   "execution_count": 24,
   "id": "d22c16b1",
   "metadata": {},
   "outputs": [],
   "source": [
    "from tensorflow.keras.models import load_model\n",
    "from tensorflow.keras.preprocessing import image\n"
   ]
  },
  {
   "cell_type": "code",
   "execution_count": 25,
   "id": "3c5548d7",
   "metadata": {},
   "outputs": [],
   "source": [
    "model = load_model(\"nutrition.h5\")"
   ]
  },
  {
   "cell_type": "code",
   "execution_count": 26,
   "id": "d1f66e9a",
   "metadata": {},
   "outputs": [],
   "source": [
    "img=image.load_img(r\"C:\\Malan\\IBM Stuff\\Dataset\\Dataset\\TEST_SET\\APPLES\\n07740461_20.jpg\", target_size=(64,64))"
   ]
  },
  {
   "cell_type": "code",
   "execution_count": 27,
   "id": "574ecb45",
   "metadata": {},
   "outputs": [
    {
     "data": {
      "image/png": "[encoded data removed]",
      "text/plain": [
       "<PIL.Image.Image image mode=RGB size=64x64 at 0x2A96CD7DAF0>"
      ]
     },
     "execution_count": 27,
     "metadata": {},
     "output_type": "execute_result"
    }
   ],
   "source": [
    "img"
   ]
  },
  {
   "cell_type": "code",
   "execution_count": 28,
   "id": "09dcaaf7",
   "metadata": {},
   "outputs": [],
   "source": [
    "x=image.img_to_array(img)"
   ]
  },
  {
   "cell_type": "code",
   "execution_count": 29,
   "id": "6bf1948c",
   "metadata": {},
   "outputs": [
    {
     "data": {
      "text/plain": [
       "array([[[222., 211., 207.],\n",
       "        [222., 211., 207.],\n",
       "        [222., 211., 207.],\n",
       "        ...,\n",
       "        [192., 184., 182.],\n",
       "        [189., 180., 181.],\n",
       "        [187., 178., 179.]],\n",
       "\n",
       "       [[223., 212., 208.],\n",
       "        [223., 212., 208.],\n",
       "        [223., 212., 208.],\n",
       "        ...,\n",
       "        [193., 185., 183.],\n",
       "        [190., 181., 182.],\n",
       "        [188., 179., 180.]],\n",
       "\n",
       "       [[223., 212., 208.],\n",
       "        [224., 213., 209.],\n",
       "        [223., 212., 208.],\n",
       "        ...,\n",
       "        [194., 186., 184.],\n",
       "        [191., 182., 183.],\n",
       "        [189., 180., 181.]],\n",
       "\n",
       "       ...,\n",
       "\n",
       "       [[190., 179., 173.],\n",
       "        [188., 177., 171.],\n",
       "        [189., 178., 172.],\n",
       "        ...,\n",
       "        [196., 188., 186.],\n",
       "        [196., 188., 186.],\n",
       "        [194., 186., 184.]],\n",
       "\n",
       "       [[189., 178., 174.],\n",
       "        [188., 178., 169.],\n",
       "        [188., 177., 171.],\n",
       "        ...,\n",
       "        [196., 188., 186.],\n",
       "        [196., 188., 186.],\n",
       "        [192., 184., 182.]],\n",
       "\n",
       "       [[186., 178., 175.],\n",
       "        [185., 178., 172.],\n",
       "        [188., 177., 171.],\n",
       "        ...,\n",
       "        [195., 187., 185.],\n",
       "        [194., 186., 184.],\n",
       "        [192., 184., 182.]]], dtype=float32)"
      ]
     },
     "execution_count": 29,
     "metadata": {},
     "output_type": "execute_result"
    }
   ],
   "source": [
    "x"
   ]
  },
  {
   "cell_type": "code",
   "execution_count": 30,
   "id": "2170131a",
   "metadata": {},
   "outputs": [],
   "source": [
    "x=np.expand_dims(x,axis=0)"
   ]
  },
  {
   "cell_type": "code",
   "execution_count": 31,
   "id": "bb26bfa1",
   "metadata": {},
   "outputs": [
    {
     "data": {
      "text/plain": [
       "array([[[[222., 211., 207.],\n",
       "         [222., 211., 207.],\n",
       "         [222., 211., 207.],\n",
       "         ...,\n",
       "         [192., 184., 182.],\n",
       "         [189., 180., 181.],\n",
       "         [187., 178., 179.]],\n",
       "\n",
       "        [[223., 212., 208.],\n",
       "         [223., 212., 208.],\n",
       "         [223., 212., 208.],\n",
       "         ...,\n",
       "         [193., 185., 183.],\n",
       "         [190., 181., 182.],\n",
       "         [188., 179., 180.]],\n",
       "\n",
       "        [[223., 212., 208.],\n",
       "         [224., 213., 209.],\n",
       "         [223., 212., 208.],\n",
       "         ...,\n",
       "         [194., 186., 184.],\n",
       "         [191., 182., 183.],\n",
       "         [189., 180., 181.]],\n",
       "\n",
       "        ...,\n",
       "\n",
       "        [[190., 179., 173.],\n",
       "         [188., 177., 171.],\n",
       "         [189., 178., 172.],\n",
       "         ...,\n",
       "         [196., 188., 186.],\n",
       "         [196., 188., 186.],\n",
       "         [194., 186., 184.]],\n",
       "\n",
       "        [[189., 178., 174.],\n",
       "         [188., 178., 169.],\n",
       "         [188., 177., 171.],\n",
       "         ...,\n",
       "         [196., 188., 186.],\n",
       "         [196., 188., 186.],\n",
       "         [192., 184., 182.]],\n",
       "\n",
       "        [[186., 178., 175.],\n",
       "         [185., 178., 172.],\n",
       "         [188., 177., 171.],\n",
       "         ...,\n",
       "         [195., 187., 185.],\n",
       "         [194., 186., 184.],\n",
       "         [192., 184., 182.]]]], dtype=float32)"
      ]
     },
     "execution_count": 31,
     "metadata": {},
     "output_type": "execute_result"
    }
   ],
   "source": [
    "x"
   ]
  },
  {
   "cell_type": "code",
   "execution_count": 32,
   "id": "613bea1a",
   "metadata": {},
   "outputs": [],
   "source": [
    "y=np.argmax(model.predict(x), axis=1)"
   ]
  },
  {
   "cell_type": "code",
   "execution_count": 33,
   "id": "28009763",
   "metadata": {},
   "outputs": [
    {
     "data": {
      "text/plain": [
       "array([0], dtype=int64)"
      ]
     },
     "execution_count": 33,
     "metadata": {},
     "output_type": "execute_result"
    }
   ],
   "source": [
    "y"
   ]
  },
  {
   "cell_type": "code",
   "execution_count": 34,
   "id": "7f055452",
   "metadata": {},
   "outputs": [
    {
     "data": {
      "text/plain": [
       "{'APPLES': 0, 'BANANA': 1, 'ORANGE': 2, 'PINEAPPLE': 3, 'WATERMELON': 4}"
      ]
     },
     "execution_count": 34,
     "metadata": {},
     "output_type": "execute_result"
    }
   ],
   "source": [
    "x_train.class_indices"
   ]
  },
  {
   "cell_type": "code",
   "execution_count": 35,
   "id": "2545bb87",
   "metadata": {},
   "outputs": [],
   "source": [
    "index=['APPLES', 'BANANA', 'ORANGE', 'PINEAPPLE', 'WATERMELON']"
   ]
  },
  {
   "cell_type": "code",
   "execution_count": 36,
   "id": "5949d3de",
   "metadata": {},
   "outputs": [
    {
     "data": {
      "text/plain": [
       "'APPLES'"
      ]
     },
     "execution_count": 36,
     "metadata": {},
     "output_type": "execute_result"
    }
   ],
   "source": [
    "index[y[0]]"
   ]
  },
  {
   "cell_type": "code",
   "execution_count": 37,
   "id": "4929008e",
   "metadata": {},
   "outputs": [
    {
     "name": "stdout",
     "output_type": "stream",
     "text": [
      "C:\\Malan\\IBM Stuff\n"
     ]
    }
   ],
   "source": [
    "cd C:\\Malan\\IBM Stuff"
   ]
  },
  {
   "cell_type": "code",
   "execution_count": 38,
   "id": "91f53df6",
   "metadata": {},
   "outputs": [
    {
     "name": "stderr",
     "output_type": "stream",
     "text": [
      "a nutrition.h5\n"
     ]
    }
   ],
   "source": [
    "!tar -zcvf nutri-analyzer-model.tgz nutrition.h5"
   ]
  },
  {
   "cell_type": "code",
   "execution_count": 39,
   "id": "211849a7",
   "metadata": {},
   "outputs": [
    {
     "data": {
      "text/plain": [
       "'2.5.0'"
      ]
     },
     "execution_count": 39,
     "metadata": {},
     "output_type": "execute_result"
    }
   ],
   "source": [
    "import tensorflow as tf\n",
    "tf.__version__"
   ]
  },
  {
   "cell_type": "code",
   "execution_count": 40,
   "id": "728a1b99",
   "metadata": {},
   "outputs": [
    {
     "name": "stdout",
     "output_type": "stream",
     "text": [
      "Defaulting to user installation because normal site-packages is not writeable\n",
      "Requirement already satisfied: keras==2.2.4 in c:\\users\\malan\\appdata\\roaming\\python\\python39\\site-packages (2.2.4)\n",
      "Requirement already satisfied: numpy>=1.9.1 in c:\\users\\malan\\appdata\\roaming\\python\\python39\\site-packages (from keras==2.2.4) (1.19.5)\n",
      "Requirement already satisfied: pyyaml in c:\\programdata\\anaconda3\\lib\\site-packages (from keras==2.2.4) (6.0)\n",
      "Requirement already satisfied: keras-preprocessing>=1.0.5 in c:\\users\\malan\\appdata\\roaming\\python\\python39\\site-packages (from keras==2.2.4) (1.1.2)\n",
      "Requirement already satisfied: h5py in c:\\users\\malan\\appdata\\roaming\\python\\python39\\site-packages (from keras==2.2.4) (3.1.0)\n",
      "Requirement already satisfied: scipy>=0.14 in c:\\programdata\\anaconda3\\lib\\site-packages (from keras==2.2.4) (1.7.3)\n",
      "Requirement already satisfied: six>=1.9.0 in c:\\users\\malan\\appdata\\roaming\\python\\python39\\site-packages (from keras==2.2.4) (1.15.0)\n",
      "Requirement already satisfied: keras-applications>=1.0.6 in c:\\users\\malan\\appdata\\roaming\\python\\python39\\site-packages (from keras==2.2.4) (1.0.8)\n"
     ]
    }
   ],
   "source": [
    "!pip install keras==2.2.4"
   ]
  },
  {
   "cell_type": "code",
   "execution_count": null,
   "id": "a2931746",
   "metadata": {},
   "outputs": [],
   "source": []
  },
  {
   "cell_type": "code",
   "execution_count": null,
   "id": "68ad5097",
   "metadata": {},
   "outputs": [],
   "source": []
  },
  {
   "cell_type": "code",
   "execution_count": null,
   "id": "7ee184dd",
   "metadata": {},
   "outputs": [],
   "source": []
  }
 ],
 "metadata": {
  "kernelspec": {
   "display_name": "Python 3 (ipykernel)",
   "language": "python",
   "name": "python3"
  },
  "language_info": {
   "codemirror_mode": {
    "name": "ipython",
    "version": 3
   },
   "file_extension": ".py",
   "mimetype": "text/x-python",
   "name": "python",
   "nbconvert_exporter": "python",
   "pygments_lexer": "ipython3",
   "version": "3.9.12"
  }
 },
 "nbformat": 4,
 "nbformat_minor": 5
}
